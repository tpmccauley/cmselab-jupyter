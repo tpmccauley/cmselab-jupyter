{
 "cells": [
  {
   "cell_type": "markdown",
   "metadata": {},
   "source": [
    "# CMS jupyter e-lab test bench "
   ]
  },
  {
   "cell_type": "markdown",
   "metadata": {},
   "source": [
    "## Import libraries"
   ]
  },
  {
   "cell_type": "code",
   "execution_count": null,
   "metadata": {},
   "outputs": [],
   "source": [
    "import ipywidgets as widgets\n",
    "import matplotlib.pyplot as plt\n",
    "import numpy as np\n",
    "import pandas as pd"
   ]
  },
  {
   "cell_type": "markdown",
   "metadata": {},
   "source": [
    "## Load data from [CERN Open Data](http://opendata.cern.ch)"
   ]
  },
  {
   "cell_type": "code",
   "execution_count": null,
   "metadata": {},
   "outputs": [],
   "source": [
    "dimuon_urls = [\n",
    "    'http://opendata.cern.ch/record/700/files/MuRun2010B_0.csv',\n",
    "    'http://opendata.cern.ch/record/700/files/MuRun2010B_0.csv',\n",
    "]\n",
    "    \n",
    "higgs_urls = [\n",
    "    'http://opendata.cern.ch/record/5200/files/2e2mu_2011.csv',\n",
    "    'http://opendata.cern.ch/record/5200/files/2e2mu_2012.csv',\n",
    "    'http://opendata.cern.ch/record/5200/files/4e_2011.csv',\n",
    "    'http://opendata.cern.ch/record/5200/files/4e_2012.csv',\n",
    "    'http://opendata.cern.ch/record/5200/files/4mu_2011.csv',\n",
    "    'http://opendata.cern.ch/record/5200/files/4mu_2012.csv',\n",
    "]\n",
    "\n",
    "Zmumu_urls = [\n",
    "    'http://opendata.cern.ch/record/307/files/Zmumu.csv',\n",
    "]\n",
    "\n",
    "dataset_names = [\n",
    "    ('Z to mu mu events', Zmumu_urls),\n",
    "    ('Di-muon events in the 2-110 GeV invariant mass range', dimuon_urls),\n",
    "    ('Higgs to 4 lepton events', higgs_urls),             \n",
    "]"
   ]
  },
  {
   "cell_type": "code",
   "execution_count": null,
   "metadata": {},
   "outputs": [],
   "source": [
    "def get_dataset(dataset=''):\n",
    "    \n",
    "    if dataset:\n",
    "        df = pd.concat([pd.read_csv(url) for url in dataset])\n",
    "        return df\n",
    "    \n",
    "data = widgets.interactive(get_dataset, dataset=dataset_names)\n",
    "print('Select a dataset:')\n",
    "display(data)"
   ]
  },
  {
   "cell_type": "code",
   "execution_count": null,
   "metadata": {},
   "outputs": [],
   "source": [
    "df = data.result\n",
    "df.head()"
   ]
  },
  {
   "cell_type": "code",
   "execution_count": null,
   "metadata": {},
   "outputs": [],
   "source": [
    "df.columns"
   ]
  },
  {
   "cell_type": "markdown",
   "metadata": {},
   "source": [
    "## Analyze"
   ]
  },
  {
   "cell_type": "markdown",
   "metadata": {},
   "source": [
    "### 1. Histograms\n",
    "\n",
    "You can use the following function to make a histogram"
   ]
  },
  {
   "cell_type": "code",
   "execution_count": null,
   "metadata": {},
   "outputs": [],
   "source": [
    "def show_histogram(\n",
    "    column,\n",
    "    bar=True,\n",
    "    grid=False,\n",
    "    nbins=100, \n",
    "    xrange=None,\n",
    "    xlabel=None,\n",
    "    log=False,\n",
    "):\n",
    "    \n",
    "    fig = plt.figure(figsize=(10,4))\n",
    "    ax = fig.add_subplot(1,1,1)\n",
    "    \n",
    "    data = column.to_list()\n",
    "    \n",
    "    if xrange is None:\n",
    "        xrange=(min(data), max(data))\n",
    "  \n",
    "    if grid:\n",
    "        plt.grid(True)\n",
    "\n",
    "    if bar:\n",
    "        \n",
    "        plt.hist(\n",
    "            data,\n",
    "            bins=nbins,\n",
    "            range=xrange,\n",
    "            log=log, \n",
    "            edgecolor='b',\n",
    "            color='w'\n",
    "        )\n",
    "    \n",
    "    else:\n",
    "        \n",
    "        hist, bins = np.histogram(data, bins=nbins, range=xrange)\n",
    "        \n",
    "        width = 1.0*(bins[1] - bins[0])\n",
    "        center = (bins[:-1] + bins[1:]) / 2\n",
    "        \n",
    "        xerrs = [width*0.5 for i in range(0, nbins)]\n",
    "        yerrs = np.sqrt(hist)\n",
    "\n",
    "        plt.errorbar(center, \n",
    "                     hist, \n",
    "                     xerr=xerrs, \n",
    "                     yerr=yerrs, \n",
    "                     linestyle='None', \n",
    "                     color='black', \n",
    "                     marker='o')\n",
    "\n",
    "    if xlabel is None:\n",
    "        plt.xlabel(column.name)\n",
    "    else:\n",
    "        plt.xlabel(xlabel)\n",
    "  \n",
    "    plt.show()"
   ]
  },
  {
   "cell_type": "markdown",
   "metadata": {},
   "source": [
    "Like so, where we look at the invariant mass M (which has units of $\\mathrm{GeV/c^{2}}$):"
   ]
  },
  {
   "cell_type": "code",
   "execution_count": null,
   "metadata": {},
   "outputs": [],
   "source": [
    "show_histogram(df['M'])"
   ]
  },
  {
   "cell_type": "markdown",
   "metadata": {},
   "source": [
    "Now let's adjust the number of bins interactively:"
   ]
  },
  {
   "cell_type": "code",
   "execution_count": null,
   "metadata": {},
   "outputs": [],
   "source": [
    "@widgets.interact(\n",
    "    nbins=widgets.IntSlider(min=1, max=100, step=1, value=100),\n",
    ")\n",
    "def adjust_histogram(nbins=100):\n",
    "    show_histogram(df['M'], xrange=(50,150), nbins=nbins)"
   ]
  },
  {
   "cell_type": "markdown",
   "metadata": {},
   "source": [
    "### 2. Selections\n",
    "\n",
    "Let's select events in which the transverse mass $p_{t}$ is within a selected range:"
   ]
  },
  {
   "cell_type": "code",
   "execution_count": null,
   "metadata": {},
   "outputs": [],
   "source": [
    "pt_select = df[(df.pt1 > 30) & (df.pt2 > 30)]"
   ]
  },
  {
   "cell_type": "markdown",
   "metadata": {},
   "source": [
    "and see how it changes the invariant mass distribution:"
   ]
  },
  {
   "cell_type": "code",
   "execution_count": null,
   "metadata": {},
   "outputs": [],
   "source": [
    "show_histogram(pt_select['M'])"
   ]
  },
  {
   "cell_type": "code",
   "execution_count": null,
   "metadata": {},
   "outputs": [],
   "source": []
  },
  {
   "cell_type": "code",
   "execution_count": null,
   "metadata": {},
   "outputs": [],
   "source": []
  }
 ],
 "metadata": {
  "kernelspec": {
   "display_name": "Python 3",
   "language": "python",
   "name": "python3"
  },
  "language_info": {
   "codemirror_mode": {
    "name": "ipython",
    "version": 3
   },
   "file_extension": ".py",
   "mimetype": "text/x-python",
   "name": "python",
   "nbconvert_exporter": "python",
   "pygments_lexer": "ipython3",
   "version": "3.7.7"
  }
 },
 "nbformat": 4,
 "nbformat_minor": 2
}
